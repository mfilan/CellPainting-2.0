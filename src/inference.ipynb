{
 "cells": [
  {
   "cell_type": "code",
   "execution_count": 1,
   "outputs": [],
   "source": [
    "import os"
   ],
   "metadata": {
    "collapsed": false,
    "pycharm": {
     "name": "#%%\n"
    }
   }
  },
  {
   "cell_type": "code",
   "execution_count": 2,
   "outputs": [],
   "source": [
    "os.environ['WANDB_API_KEY'] = '5ea9498c2870cf3e2ad58c7352ac3e8949bd2a82'"
   ],
   "metadata": {
    "collapsed": false,
    "pycharm": {
     "name": "#%%\n"
    }
   }
  },
  {
   "cell_type": "code",
   "execution_count": 3,
   "outputs": [],
   "source": [
    "import sys"
   ],
   "metadata": {
    "collapsed": false,
    "pycharm": {
     "name": "#%%\n"
    }
   }
  },
  {
   "cell_type": "code",
   "execution_count": 4,
   "outputs": [
    {
     "name": "stdout",
     "output_type": "stream",
     "text": [
      "Collecting hydra-core\r\n",
      "  Using cached hydra_core-1.2.0-py3-none-any.whl (151 kB)\r\n",
      "Collecting wandb\r\n",
      "  Using cached wandb-0.12.21-py2.py3-none-any.whl (1.8 MB)\r\n",
      "Collecting transformers\r\n",
      "  Using cached transformers-4.20.1-py3-none-any.whl (4.4 MB)\r\n",
      "Collecting datasets\r\n",
      "  Using cached datasets-2.4.0-py3-none-any.whl (365 kB)\r\n",
      "Collecting opencv-python\r\n",
      "  Using cached opencv_python-4.6.0.66-cp37-abi3-macosx_11_0_arm64.whl (30.0 MB)\r\n",
      "Collecting packaging\r\n",
      "  Using cached packaging-21.3-py3-none-any.whl (40 kB)\r\n",
      "Collecting antlr4-python3-runtime==4.9.*\r\n",
      "  Using cached antlr4_python3_runtime-4.9.3-py3-none-any.whl\r\n",
      "Collecting omegaconf~=2.2\r\n",
      "  Using cached omegaconf-2.2.2-py3-none-any.whl (79 kB)\r\n",
      "Collecting docker-pycreds>=0.4.0\r\n",
      "  Using cached docker_pycreds-0.4.0-py2.py3-none-any.whl (9.0 kB)\r\n",
      "Collecting six>=1.13.0\r\n",
      "  Using cached six-1.16.0-py2.py3-none-any.whl (11 kB)\r\n",
      "Collecting protobuf<4.0dev,>=3.12.0\r\n",
      "  Using cached protobuf-3.20.1-py2.py3-none-any.whl (162 kB)\r\n",
      "Collecting setuptools\r\n",
      "  Using cached setuptools-63.2.0-py3-none-any.whl (1.2 MB)\r\n",
      "Collecting setproctitle\r\n",
      "  Using cached setproctitle-1.2.3-cp39-cp39-macosx_10_9_universal2.whl (17 kB)\r\n",
      "Collecting GitPython>=1.0.0\r\n",
      "  Using cached GitPython-3.1.27-py3-none-any.whl (181 kB)\r\n",
      "Collecting Click!=8.0.0,>=7.0\r\n",
      "  Using cached click-8.1.3-py3-none-any.whl (96 kB)\r\n",
      "Collecting shortuuid>=0.5.0\r\n",
      "  Using cached shortuuid-1.0.9-py3-none-any.whl (9.4 kB)\r\n",
      "Collecting pathtools\r\n",
      "  Using cached pathtools-0.1.2-py3-none-any.whl\r\n",
      "Collecting promise<3,>=2.0\r\n",
      "  Using cached promise-2.3-py3-none-any.whl\r\n",
      "Collecting sentry-sdk>=1.0.0\r\n",
      "  Using cached sentry_sdk-1.8.0-py2.py3-none-any.whl (153 kB)\r\n",
      "Collecting psutil>=5.0.0\r\n",
      "  Using cached psutil-5.9.1-cp39-cp39-macosx_11_0_arm64.whl\r\n",
      "Collecting requests<3,>=2.0.0\r\n",
      "  Using cached requests-2.28.1-py3-none-any.whl (62 kB)\r\n",
      "Collecting PyYAML\r\n",
      "  Using cached PyYAML-6.0-cp39-cp39-macosx_11_0_arm64.whl (173 kB)\r\n",
      "Collecting filelock\r\n",
      "  Using cached filelock-3.7.1-py3-none-any.whl (10 kB)\r\n",
      "Collecting tqdm>=4.27\r\n",
      "  Using cached tqdm-4.64.0-py2.py3-none-any.whl (78 kB)\r\n",
      "Collecting numpy>=1.17\r\n",
      "  Using cached numpy-1.23.1-cp39-cp39-macosx_11_0_arm64.whl (13.3 MB)\r\n",
      "Collecting regex!=2019.12.17\r\n",
      "  Using cached regex-2022.7.25-cp39-cp39-macosx_11_0_arm64.whl (282 kB)\r\n",
      "Collecting huggingface-hub<1.0,>=0.1.0\r\n",
      "  Using cached huggingface_hub-0.8.1-py3-none-any.whl (101 kB)\r\n",
      "Collecting tokenizers!=0.11.3,<0.13,>=0.11.1\r\n",
      "  Using cached tokenizers-0.12.1.tar.gz (220 kB)\r\n",
      "  Installing build dependencies ... \u001B[?25ldone\r\n",
      "\u001B[?25h  Getting requirements to build wheel ... \u001B[?25ldone\r\n",
      "\u001B[?25h  Preparing metadata (pyproject.toml) ... \u001B[?25ldone\r\n",
      "\u001B[?25hCollecting pandas\r\n",
      "  Using cached pandas-1.4.3-cp39-cp39-macosx_11_0_arm64.whl (10.5 MB)\r\n",
      "Collecting fsspec[http]>=2021.11.1\r\n",
      "  Using cached fsspec-2022.5.0-py3-none-any.whl (140 kB)\r\n",
      "Collecting aiohttp\r\n",
      "  Using cached aiohttp-3.8.1-cp39-cp39-macosx_11_0_arm64.whl (552 kB)\r\n",
      "Collecting pyarrow>=6.0.0\r\n",
      "  Using cached pyarrow-8.0.0-cp39-cp39-macosx_11_0_arm64.whl (16.2 MB)\r\n",
      "Collecting responses<0.19\r\n",
      "  Using cached responses-0.18.0-py3-none-any.whl (38 kB)\r\n",
      "Collecting multiprocess\r\n",
      "  Using cached multiprocess-0.70.13-py39-none-any.whl (132 kB)\r\n",
      "Collecting dill<0.3.6\r\n",
      "  Using cached dill-0.3.5.1-py2.py3-none-any.whl (95 kB)\r\n",
      "Collecting xxhash\r\n",
      "  Using cached xxhash-3.0.0-cp39-cp39-macosx_11_0_arm64.whl (30 kB)\r\n",
      "Collecting gitdb<5,>=4.0.1\r\n",
      "  Using cached gitdb-4.0.9-py3-none-any.whl (63 kB)\r\n",
      "Collecting typing-extensions>=3.7.4.3\r\n",
      "  Using cached typing_extensions-4.3.0-py3-none-any.whl (25 kB)\r\n",
      "Collecting pyparsing!=3.0.5,>=2.0.2\r\n",
      "  Using cached pyparsing-3.0.9-py3-none-any.whl (98 kB)\r\n",
      "Collecting charset-normalizer<3,>=2\r\n",
      "  Using cached charset_normalizer-2.1.0-py3-none-any.whl (39 kB)\r\n",
      "Collecting certifi>=2017.4.17\r\n",
      "  Using cached certifi-2022.6.15-py3-none-any.whl (160 kB)\r\n",
      "Collecting urllib3<1.27,>=1.21.1\r\n",
      "  Using cached urllib3-1.26.11-py2.py3-none-any.whl (139 kB)\r\n",
      "Collecting idna<4,>=2.5\r\n",
      "  Using cached idna-3.3-py3-none-any.whl (61 kB)\r\n",
      "Collecting attrs>=17.3.0\r\n",
      "  Using cached attrs-21.4.0-py2.py3-none-any.whl (60 kB)\r\n",
      "Collecting multidict<7.0,>=4.5\r\n",
      "  Using cached multidict-6.0.2-cp39-cp39-macosx_11_0_arm64.whl (29 kB)\r\n",
      "Collecting frozenlist>=1.1.1\r\n",
      "  Using cached frozenlist-1.3.0-cp39-cp39-macosx_11_0_arm64.whl (34 kB)\r\n",
      "Collecting aiosignal>=1.1.2\r\n",
      "  Using cached aiosignal-1.2.0-py3-none-any.whl (8.2 kB)\r\n",
      "Collecting yarl<2.0,>=1.0\r\n",
      "  Using cached yarl-1.7.2-cp39-cp39-macosx_11_0_arm64.whl (118 kB)\r\n",
      "Collecting async-timeout<5.0,>=4.0.0a3\r\n",
      "  Using cached async_timeout-4.0.2-py3-none-any.whl (5.8 kB)\r\n",
      "Collecting python-dateutil>=2.8.1\r\n",
      "  Using cached python_dateutil-2.8.2-py2.py3-none-any.whl (247 kB)\r\n",
      "Collecting pytz>=2020.1\r\n",
      "  Using cached pytz-2022.1-py2.py3-none-any.whl (503 kB)\r\n",
      "Collecting smmap<6,>=3.0.1\r\n",
      "  Using cached smmap-5.0.0-py3-none-any.whl (24 kB)\r\n",
      "Building wheels for collected packages: tokenizers\r\n",
      "  Building wheel for tokenizers (pyproject.toml) ... \u001B[?25lerror\r\n",
      "  \u001B[1;31merror\u001B[0m: \u001B[1msubprocess-exited-with-error\u001B[0m\r\n",
      "  \r\n",
      "  \u001B[31m×\u001B[0m \u001B[32mBuilding wheel for tokenizers \u001B[0m\u001B[1;32m(\u001B[0m\u001B[32mpyproject.toml\u001B[0m\u001B[1;32m)\u001B[0m did not run successfully.\r\n",
      "  \u001B[31m│\u001B[0m exit code: \u001B[1;36m1\u001B[0m\r\n",
      "  \u001B[31m╰─>\u001B[0m \u001B[31m[51 lines of output]\u001B[0m\r\n",
      "  \u001B[31m   \u001B[0m running bdist_wheel\r\n",
      "  \u001B[31m   \u001B[0m running build\r\n",
      "  \u001B[31m   \u001B[0m running build_py\r\n",
      "  \u001B[31m   \u001B[0m creating build\r\n",
      "  \u001B[31m   \u001B[0m creating build/lib.macosx-11.1-arm64-cpython-39\r\n",
      "  \u001B[31m   \u001B[0m creating build/lib.macosx-11.1-arm64-cpython-39/tokenizers\r\n",
      "  \u001B[31m   \u001B[0m copying py_src/tokenizers/__init__.py -> build/lib.macosx-11.1-arm64-cpython-39/tokenizers\r\n",
      "  \u001B[31m   \u001B[0m creating build/lib.macosx-11.1-arm64-cpython-39/tokenizers/models\r\n",
      "  \u001B[31m   \u001B[0m copying py_src/tokenizers/models/__init__.py -> build/lib.macosx-11.1-arm64-cpython-39/tokenizers/models\r\n",
      "  \u001B[31m   \u001B[0m creating build/lib.macosx-11.1-arm64-cpython-39/tokenizers/decoders\r\n",
      "  \u001B[31m   \u001B[0m copying py_src/tokenizers/decoders/__init__.py -> build/lib.macosx-11.1-arm64-cpython-39/tokenizers/decoders\r\n",
      "  \u001B[31m   \u001B[0m creating build/lib.macosx-11.1-arm64-cpython-39/tokenizers/normalizers\r\n",
      "  \u001B[31m   \u001B[0m copying py_src/tokenizers/normalizers/__init__.py -> build/lib.macosx-11.1-arm64-cpython-39/tokenizers/normalizers\r\n",
      "  \u001B[31m   \u001B[0m creating build/lib.macosx-11.1-arm64-cpython-39/tokenizers/pre_tokenizers\r\n",
      "  \u001B[31m   \u001B[0m copying py_src/tokenizers/pre_tokenizers/__init__.py -> build/lib.macosx-11.1-arm64-cpython-39/tokenizers/pre_tokenizers\r\n",
      "  \u001B[31m   \u001B[0m creating build/lib.macosx-11.1-arm64-cpython-39/tokenizers/processors\r\n",
      "  \u001B[31m   \u001B[0m copying py_src/tokenizers/processors/__init__.py -> build/lib.macosx-11.1-arm64-cpython-39/tokenizers/processors\r\n",
      "  \u001B[31m   \u001B[0m creating build/lib.macosx-11.1-arm64-cpython-39/tokenizers/trainers\r\n",
      "  \u001B[31m   \u001B[0m copying py_src/tokenizers/trainers/__init__.py -> build/lib.macosx-11.1-arm64-cpython-39/tokenizers/trainers\r\n",
      "  \u001B[31m   \u001B[0m creating build/lib.macosx-11.1-arm64-cpython-39/tokenizers/implementations\r\n",
      "  \u001B[31m   \u001B[0m copying py_src/tokenizers/implementations/byte_level_bpe.py -> build/lib.macosx-11.1-arm64-cpython-39/tokenizers/implementations\r\n",
      "  \u001B[31m   \u001B[0m copying py_src/tokenizers/implementations/sentencepiece_unigram.py -> build/lib.macosx-11.1-arm64-cpython-39/tokenizers/implementations\r\n",
      "  \u001B[31m   \u001B[0m copying py_src/tokenizers/implementations/sentencepiece_bpe.py -> build/lib.macosx-11.1-arm64-cpython-39/tokenizers/implementations\r\n",
      "  \u001B[31m   \u001B[0m copying py_src/tokenizers/implementations/base_tokenizer.py -> build/lib.macosx-11.1-arm64-cpython-39/tokenizers/implementations\r\n",
      "  \u001B[31m   \u001B[0m copying py_src/tokenizers/implementations/__init__.py -> build/lib.macosx-11.1-arm64-cpython-39/tokenizers/implementations\r\n",
      "  \u001B[31m   \u001B[0m copying py_src/tokenizers/implementations/char_level_bpe.py -> build/lib.macosx-11.1-arm64-cpython-39/tokenizers/implementations\r\n",
      "  \u001B[31m   \u001B[0m copying py_src/tokenizers/implementations/bert_wordpiece.py -> build/lib.macosx-11.1-arm64-cpython-39/tokenizers/implementations\r\n",
      "  \u001B[31m   \u001B[0m creating build/lib.macosx-11.1-arm64-cpython-39/tokenizers/tools\r\n",
      "  \u001B[31m   \u001B[0m copying py_src/tokenizers/tools/__init__.py -> build/lib.macosx-11.1-arm64-cpython-39/tokenizers/tools\r\n",
      "  \u001B[31m   \u001B[0m copying py_src/tokenizers/tools/visualizer.py -> build/lib.macosx-11.1-arm64-cpython-39/tokenizers/tools\r\n",
      "  \u001B[31m   \u001B[0m copying py_src/tokenizers/__init__.pyi -> build/lib.macosx-11.1-arm64-cpython-39/tokenizers\r\n",
      "  \u001B[31m   \u001B[0m copying py_src/tokenizers/models/__init__.pyi -> build/lib.macosx-11.1-arm64-cpython-39/tokenizers/models\r\n",
      "  \u001B[31m   \u001B[0m copying py_src/tokenizers/decoders/__init__.pyi -> build/lib.macosx-11.1-arm64-cpython-39/tokenizers/decoders\r\n",
      "  \u001B[31m   \u001B[0m copying py_src/tokenizers/normalizers/__init__.pyi -> build/lib.macosx-11.1-arm64-cpython-39/tokenizers/normalizers\r\n",
      "  \u001B[31m   \u001B[0m copying py_src/tokenizers/pre_tokenizers/__init__.pyi -> build/lib.macosx-11.1-arm64-cpython-39/tokenizers/pre_tokenizers\r\n",
      "  \u001B[31m   \u001B[0m copying py_src/tokenizers/processors/__init__.pyi -> build/lib.macosx-11.1-arm64-cpython-39/tokenizers/processors\r\n",
      "  \u001B[31m   \u001B[0m copying py_src/tokenizers/trainers/__init__.pyi -> build/lib.macosx-11.1-arm64-cpython-39/tokenizers/trainers\r\n",
      "  \u001B[31m   \u001B[0m copying py_src/tokenizers/tools/visualizer-styles.css -> build/lib.macosx-11.1-arm64-cpython-39/tokenizers/tools\r\n",
      "  \u001B[31m   \u001B[0m running build_ext\r\n",
      "  \u001B[31m   \u001B[0m running build_rust\r\n",
      "  \u001B[31m   \u001B[0m error: can't find Rust compiler\r\n",
      "  \u001B[31m   \u001B[0m \r\n",
      "  \u001B[31m   \u001B[0m If you are using an outdated pip version, it is possible a prebuilt wheel is available for this package but pip is not able to install from it. Installing from the wheel would avoid the need for a Rust compiler.\r\n",
      "  \u001B[31m   \u001B[0m \r\n",
      "  \u001B[31m   \u001B[0m To update pip, run:\r\n",
      "  \u001B[31m   \u001B[0m \r\n",
      "  \u001B[31m   \u001B[0m     pip install --upgrade pip\r\n",
      "  \u001B[31m   \u001B[0m \r\n",
      "  \u001B[31m   \u001B[0m and then retry package installation.\r\n",
      "  \u001B[31m   \u001B[0m \r\n",
      "  \u001B[31m   \u001B[0m If you did intend to build this package from source, try installing a Rust compiler from your system package manager and ensure it is on the PATH during installation. Alternatively, rustup (available at https://rustup.rs) is the recommended way to download and update the Rust compiler toolchain.\r\n",
      "  \u001B[31m   \u001B[0m \u001B[31m[end of output]\u001B[0m\r\n",
      "  \r\n",
      "  \u001B[1;35mnote\u001B[0m: This error originates from a subprocess, and is likely not a problem with pip.\r\n",
      "\u001B[31m  ERROR: Failed building wheel for tokenizers\u001B[0m\u001B[31m\r\n",
      "\u001B[0m\u001B[?25hFailed to build tokenizers\r\n",
      "\u001B[31mERROR: Could not build wheels for tokenizers, which is required to install pyproject.toml-based projects\u001B[0m\u001B[31m\r\n",
      "\u001B[0m"
     ]
    }
   ],
   "source": [
    "!{sys.executable} -m pip install hydra-core wandb transformers datasets opencv-python --force-reinstall"
   ],
   "metadata": {
    "collapsed": false,
    "pycharm": {
     "name": "#%%\n"
    }
   }
  },
  {
   "cell_type": "code",
   "execution_count": 6,
   "outputs": [],
   "source": [
    "import os\n",
    "from hydra import compose, initialize\n",
    "from hydra.core.config_store import ConfigStore\n",
    "from hydra.utils import instantiate\n",
    "from torch.utils.data import Dataset\n",
    "from transformers import ResNetForImageClassification\n",
    "\n",
    "import src.utils as utils\n",
    "from src.conf import Config, DataConfig\n",
    "from src.data import DataHandler\n",
    "from src.data.dataset import CellPaintingDatasetCached\n",
    "from src.model import ConvNext, Dummy, ModelTrainer, ResNet, ViT, DeiT\n",
    "\n",
    "os.chdir(\"/Users/maciej.filanowicz/CellPainting/src\")\n",
    "initialize(version_base=\"1.2\", config_path=\"conf\", job_name=\"test_app\")\n",
    "cfg = compose(config_name=\"config\", return_hydra_config=True)\n",
    "dataset_config = instantiate(cfg.dataset)\n",
    "train_config = instantiate(cfg.train)"
   ],
   "metadata": {
    "collapsed": false,
    "pycharm": {
     "name": "#%%\n"
    }
   }
  },
  {
   "cell_type": "code",
   "execution_count": 7,
   "outputs": [],
   "source": [
    "from  transformers import SchedulerType,ResNetForImageClassification,ResNetConfig\n",
    "import torch"
   ],
   "metadata": {
    "collapsed": false,
    "pycharm": {
     "name": "#%%\n"
    }
   }
  },
  {
   "cell_type": "code",
   "execution_count": 8,
   "outputs": [],
   "source": [
    "from torchvision import transforms"
   ],
   "metadata": {
    "collapsed": false,
    "pycharm": {
     "name": "#%%\n"
    }
   }
  },
  {
   "cell_type": "code",
   "execution_count": 9,
   "outputs": [],
   "source": [
    "# transforms = transforms.Compose([transforms.ToTensor(),\n",
    "#                     transforms.Normalize(mean=[163.24,  536.39, 425.26, 581.64],std=[ 204.27, 1386.95, 917.2 , 519.7 ]),\n",
    "#                     transforms.Resize(224)])"
   ],
   "metadata": {
    "collapsed": false,
    "pycharm": {
     "name": "#%%\n"
    }
   }
  },
  {
   "cell_type": "code",
   "execution_count": 10,
   "outputs": [],
   "source": [
    "from typing import Any, Dict, List, Tuple, Type, Union\n",
    "\n",
    "import cv2\n",
    "import numpy as np\n",
    "import numpy.typing as npt\n",
    "from numpy.lib.stride_tricks import as_strided\n",
    "from tifffile import imread"
   ],
   "metadata": {
    "collapsed": false,
    "pycharm": {
     "name": "#%%\n"
    }
   }
  },
  {
   "cell_type": "code",
   "execution_count": 11,
   "outputs": [],
   "source": [
    "def view_as_blocks(arr_in: npt.NDArray[Any], block_shape: Tuple[int, int, int] = (540,540,4)) -> Any:\n",
    "    if arr_in.shape[0] % block_shape[0] or arr_in.shape[1] % block_shape[1] or arr_in.shape[2] != block_shape[2]:\n",
    "        raise ValueError(\"Incompatible block shape!\")\n",
    "    bs = np.array(block_shape)\n",
    "    arr_shape = np.array(arr_in.shape)\n",
    "    new_shape = tuple(arr_shape // bs) + tuple(bs)\n",
    "    new_strides = tuple(arr_in.strides * bs) + arr_in.strides\n",
    "    arr_out = as_strided(arr_in, shape=new_shape, strides=new_strides)\n",
    "    arr_out = np.squeeze(arr_out)\n",
    "    return arr_out"
   ],
   "metadata": {
    "collapsed": false,
    "pycharm": {
     "name": "#%%\n"
    }
   }
  },
  {
   "cell_type": "code",
   "execution_count": 12,
   "outputs": [],
   "source": [
    "\n",
    "from torch.utils.data import Dataset\n",
    "\n",
    "import pandas as pd\n",
    "\n",
    "metadata = pd.read_csv(\"../data/processed/meta_data.csv\")\n",
    "# train_dataset = CellPaintingDatasetCached(\n",
    "#     metadata[metadata.folder_name == \"train\"], dataset_config, dataset_config.train_transforms\n",
    "# )\n",
    "test_dataset = CellPaintingDatasetCached(\n",
    "    metadata[metadata.folder_name == \"test\"], dataset_config,None\n",
    ")\n",
    "# val_dataset = CellPaintingDatasetCached(\n",
    "#     metadata[metadata.folder_name == \"val\"], dataset_config, dataset_config.test_transforms\n",
    "# )"
   ],
   "metadata": {
    "collapsed": false,
    "pycharm": {
     "name": "#%%\n"
    }
   }
  },
  {
   "cell_type": "markdown",
   "source": [],
   "metadata": {
    "collapsed": false,
    "pycharm": {
     "name": "#%% md\n"
    }
   }
  },
  {
   "cell_type": "code",
   "execution_count": 13,
   "outputs": [],
   "source": [
    "test_images = [test_dataset.__getitem__(0)['pixel_values'],test_dataset.__getitem__(1)['pixel_values']]\n",
    "test_images = np.stack(test_images)"
   ],
   "metadata": {
    "collapsed": false,
    "pycharm": {
     "name": "#%%\n"
    }
   }
  },
  {
   "cell_type": "code",
   "execution_count": 22,
   "outputs": [],
   "source": [
    "from transformers.modeling_outputs import ImageClassifierOutput"
   ],
   "metadata": {
    "collapsed": false,
    "pycharm": {
     "name": "#%%\n"
    }
   }
  },
  {
   "cell_type": "code",
   "execution_count": 14,
   "outputs": [],
   "source": [
    "from torch.nn.functional import softmax"
   ],
   "metadata": {
    "collapsed": false,
    "pycharm": {
     "name": "#%%\n"
    }
   }
  },
  {
   "cell_type": "code",
   "execution_count": 15,
   "outputs": [],
   "source": [
    "config = ResNetConfig(num_labels=9,\n",
    "                      pretrained_model_name = '../models/resnet18/pytorch_model.bin',\n",
    "                      label2id=dict(dataset_config.label2id),\n",
    "                      id2label=dict(dataset_config.id2label),\n",
    "                      num_channels=4,\n",
    "                      depths=[2,2,2,2],\n",
    "                      downsample_in_first_stage= False,\n",
    "                      embedding_size=64,\n",
    "                      hidden_sizes=[64,128,256,512],\n",
    "                      layer_type='basic',\n",
    "                      device='cuda' if torch.cuda.is_available() else 'cpu')\n",
    "\n",
    "class CellPainingModel:\n",
    "    def __init__(self, config: ResNetConfig, transforms: transforms = None) -> None:\n",
    "        self.model = ResNetForImageClassification(config)\n",
    "        self.model.load_state_dict(torch.load(config.pretrained_model_name,map_location=torch.device(config.device)))\n",
    "        self._transforms = transforms\n",
    "\n",
    "    def _patch_images(self,images):\n",
    "        patches = np.array([view_as_blocks(i) for i in images])\n",
    "        return patches\n",
    "\n",
    "    def transform(self,images):\n",
    "        images = torch.stack([self._transforms(i) for i in images])\n",
    "        return images\n",
    "\n",
    "    def __call__(self, pixel_values):\n",
    "        images = self._patch_images(pixel_values)\n",
    "        input_shape = images.shape\n",
    "        images = images.reshape(-1,540,540,4)\n",
    "        if self._transforms:\n",
    "            images = self.transform(images)\n",
    "        output = self.model(pixel_values=images,labels=None)\n",
    "        output_shape = (input_shape[0],input_shape[1]*input_shape[2])\n",
    "        logits = output.logits.reshape((*output_shape,-1))\n",
    "        mean_logits = softmax(torch.mean(logits,axis=1),-1).detach().cpu().numpy()\n",
    "        return mean_logits"
   ],
   "metadata": {
    "collapsed": false,
    "pycharm": {
     "name": "#%%\n"
    }
   }
  },
  {
   "cell_type": "code",
   "execution_count": 41,
   "outputs": [
    {
     "ename": "TypeError",
     "evalue": "Object of type Compose is not JSON serializable",
     "output_type": "error",
     "traceback": [
      "\u001B[0;31m---------------------------------------------------------------------------\u001B[0m",
      "\u001B[0;31mTypeError\u001B[0m                                 Traceback (most recent call last)",
      "File \u001B[0;32m~/opt/anaconda3/envs/cellpaint/lib/python3.9/site-packages/IPython/core/formatters.py:707\u001B[0m, in \u001B[0;36mPlainTextFormatter.__call__\u001B[0;34m(self, obj)\u001B[0m\n\u001B[1;32m    700\u001B[0m stream \u001B[38;5;241m=\u001B[39m StringIO()\n\u001B[1;32m    701\u001B[0m printer \u001B[38;5;241m=\u001B[39m pretty\u001B[38;5;241m.\u001B[39mRepresentationPrinter(stream, \u001B[38;5;28mself\u001B[39m\u001B[38;5;241m.\u001B[39mverbose,\n\u001B[1;32m    702\u001B[0m     \u001B[38;5;28mself\u001B[39m\u001B[38;5;241m.\u001B[39mmax_width, \u001B[38;5;28mself\u001B[39m\u001B[38;5;241m.\u001B[39mnewline,\n\u001B[1;32m    703\u001B[0m     max_seq_length\u001B[38;5;241m=\u001B[39m\u001B[38;5;28mself\u001B[39m\u001B[38;5;241m.\u001B[39mmax_seq_length,\n\u001B[1;32m    704\u001B[0m     singleton_pprinters\u001B[38;5;241m=\u001B[39m\u001B[38;5;28mself\u001B[39m\u001B[38;5;241m.\u001B[39msingleton_printers,\n\u001B[1;32m    705\u001B[0m     type_pprinters\u001B[38;5;241m=\u001B[39m\u001B[38;5;28mself\u001B[39m\u001B[38;5;241m.\u001B[39mtype_printers,\n\u001B[1;32m    706\u001B[0m     deferred_pprinters\u001B[38;5;241m=\u001B[39m\u001B[38;5;28mself\u001B[39m\u001B[38;5;241m.\u001B[39mdeferred_printers)\n\u001B[0;32m--> 707\u001B[0m \u001B[43mprinter\u001B[49m\u001B[38;5;241;43m.\u001B[39;49m\u001B[43mpretty\u001B[49m\u001B[43m(\u001B[49m\u001B[43mobj\u001B[49m\u001B[43m)\u001B[49m\n\u001B[1;32m    708\u001B[0m printer\u001B[38;5;241m.\u001B[39mflush()\n\u001B[1;32m    709\u001B[0m \u001B[38;5;28;01mreturn\u001B[39;00m stream\u001B[38;5;241m.\u001B[39mgetvalue()\n",
      "File \u001B[0;32m~/opt/anaconda3/envs/cellpaint/lib/python3.9/site-packages/IPython/lib/pretty.py:410\u001B[0m, in \u001B[0;36mRepresentationPrinter.pretty\u001B[0;34m(self, obj)\u001B[0m\n\u001B[1;32m    407\u001B[0m                         \u001B[38;5;28;01mreturn\u001B[39;00m meth(obj, \u001B[38;5;28mself\u001B[39m, cycle)\n\u001B[1;32m    408\u001B[0m                 \u001B[38;5;28;01mif\u001B[39;00m \u001B[38;5;28mcls\u001B[39m \u001B[38;5;129;01mis\u001B[39;00m \u001B[38;5;129;01mnot\u001B[39;00m \u001B[38;5;28mobject\u001B[39m \\\n\u001B[1;32m    409\u001B[0m                         \u001B[38;5;129;01mand\u001B[39;00m callable(\u001B[38;5;28mcls\u001B[39m\u001B[38;5;241m.\u001B[39m\u001B[38;5;18m__dict__\u001B[39m\u001B[38;5;241m.\u001B[39mget(\u001B[38;5;124m'\u001B[39m\u001B[38;5;124m__repr__\u001B[39m\u001B[38;5;124m'\u001B[39m)):\n\u001B[0;32m--> 410\u001B[0m                     \u001B[38;5;28;01mreturn\u001B[39;00m \u001B[43m_repr_pprint\u001B[49m\u001B[43m(\u001B[49m\u001B[43mobj\u001B[49m\u001B[43m,\u001B[49m\u001B[43m \u001B[49m\u001B[38;5;28;43mself\u001B[39;49m\u001B[43m,\u001B[49m\u001B[43m \u001B[49m\u001B[43mcycle\u001B[49m\u001B[43m)\u001B[49m\n\u001B[1;32m    412\u001B[0m     \u001B[38;5;28;01mreturn\u001B[39;00m _default_pprint(obj, \u001B[38;5;28mself\u001B[39m, cycle)\n\u001B[1;32m    413\u001B[0m \u001B[38;5;28;01mfinally\u001B[39;00m:\n",
      "File \u001B[0;32m~/opt/anaconda3/envs/cellpaint/lib/python3.9/site-packages/IPython/lib/pretty.py:778\u001B[0m, in \u001B[0;36m_repr_pprint\u001B[0;34m(obj, p, cycle)\u001B[0m\n\u001B[1;32m    776\u001B[0m \u001B[38;5;124;03m\"\"\"A pprint that just redirects to the normal repr function.\"\"\"\u001B[39;00m\n\u001B[1;32m    777\u001B[0m \u001B[38;5;66;03m# Find newlines and replace them with p.break_()\u001B[39;00m\n\u001B[0;32m--> 778\u001B[0m output \u001B[38;5;241m=\u001B[39m \u001B[38;5;28;43mrepr\u001B[39;49m\u001B[43m(\u001B[49m\u001B[43mobj\u001B[49m\u001B[43m)\u001B[49m\n\u001B[1;32m    779\u001B[0m lines \u001B[38;5;241m=\u001B[39m output\u001B[38;5;241m.\u001B[39msplitlines()\n\u001B[1;32m    780\u001B[0m \u001B[38;5;28;01mwith\u001B[39;00m p\u001B[38;5;241m.\u001B[39mgroup():\n",
      "File \u001B[0;32m~/opt/anaconda3/envs/cellpaint/lib/python3.9/site-packages/transformers/configuration_utils.py:740\u001B[0m, in \u001B[0;36mPretrainedConfig.__repr__\u001B[0;34m(self)\u001B[0m\n\u001B[1;32m    739\u001B[0m \u001B[38;5;28;01mdef\u001B[39;00m \u001B[38;5;21m__repr__\u001B[39m(\u001B[38;5;28mself\u001B[39m):\n\u001B[0;32m--> 740\u001B[0m     \u001B[38;5;28;01mreturn\u001B[39;00m \u001B[38;5;124mf\u001B[39m\u001B[38;5;124m\"\u001B[39m\u001B[38;5;132;01m{\u001B[39;00m\u001B[38;5;28mself\u001B[39m\u001B[38;5;241m.\u001B[39m\u001B[38;5;18m__class__\u001B[39m\u001B[38;5;241m.\u001B[39m\u001B[38;5;18m__name__\u001B[39m\u001B[38;5;132;01m}\u001B[39;00m\u001B[38;5;124m \u001B[39m\u001B[38;5;132;01m{\u001B[39;00m\u001B[38;5;28mself\u001B[39m\u001B[38;5;241m.\u001B[39mto_json_string()\u001B[38;5;132;01m}\u001B[39;00m\u001B[38;5;124m\"\u001B[39m\n",
      "File \u001B[0;32m~/opt/anaconda3/envs/cellpaint/lib/python3.9/site-packages/transformers/configuration_utils.py:810\u001B[0m, in \u001B[0;36mPretrainedConfig.to_json_string\u001B[0;34m(self, use_diff)\u001B[0m\n\u001B[1;32m    808\u001B[0m \u001B[38;5;28;01melse\u001B[39;00m:\n\u001B[1;32m    809\u001B[0m     config_dict \u001B[38;5;241m=\u001B[39m \u001B[38;5;28mself\u001B[39m\u001B[38;5;241m.\u001B[39mto_dict()\n\u001B[0;32m--> 810\u001B[0m \u001B[38;5;28;01mreturn\u001B[39;00m \u001B[43mjson\u001B[49m\u001B[38;5;241;43m.\u001B[39;49m\u001B[43mdumps\u001B[49m\u001B[43m(\u001B[49m\u001B[43mconfig_dict\u001B[49m\u001B[43m,\u001B[49m\u001B[43m \u001B[49m\u001B[43mindent\u001B[49m\u001B[38;5;241;43m=\u001B[39;49m\u001B[38;5;241;43m2\u001B[39;49m\u001B[43m,\u001B[49m\u001B[43m \u001B[49m\u001B[43msort_keys\u001B[49m\u001B[38;5;241;43m=\u001B[39;49m\u001B[38;5;28;43;01mTrue\u001B[39;49;00m\u001B[43m)\u001B[49m \u001B[38;5;241m+\u001B[39m \u001B[38;5;124m\"\u001B[39m\u001B[38;5;130;01m\\n\u001B[39;00m\u001B[38;5;124m\"\u001B[39m\n",
      "File \u001B[0;32m~/opt/anaconda3/envs/cellpaint/lib/python3.9/json/__init__.py:234\u001B[0m, in \u001B[0;36mdumps\u001B[0;34m(obj, skipkeys, ensure_ascii, check_circular, allow_nan, cls, indent, separators, default, sort_keys, **kw)\u001B[0m\n\u001B[1;32m    232\u001B[0m \u001B[38;5;28;01mif\u001B[39;00m \u001B[38;5;28mcls\u001B[39m \u001B[38;5;129;01mis\u001B[39;00m \u001B[38;5;28;01mNone\u001B[39;00m:\n\u001B[1;32m    233\u001B[0m     \u001B[38;5;28mcls\u001B[39m \u001B[38;5;241m=\u001B[39m JSONEncoder\n\u001B[0;32m--> 234\u001B[0m \u001B[38;5;28;01mreturn\u001B[39;00m \u001B[38;5;28;43mcls\u001B[39;49m\u001B[43m(\u001B[49m\n\u001B[1;32m    235\u001B[0m \u001B[43m    \u001B[49m\u001B[43mskipkeys\u001B[49m\u001B[38;5;241;43m=\u001B[39;49m\u001B[43mskipkeys\u001B[49m\u001B[43m,\u001B[49m\u001B[43m \u001B[49m\u001B[43mensure_ascii\u001B[49m\u001B[38;5;241;43m=\u001B[39;49m\u001B[43mensure_ascii\u001B[49m\u001B[43m,\u001B[49m\n\u001B[1;32m    236\u001B[0m \u001B[43m    \u001B[49m\u001B[43mcheck_circular\u001B[49m\u001B[38;5;241;43m=\u001B[39;49m\u001B[43mcheck_circular\u001B[49m\u001B[43m,\u001B[49m\u001B[43m \u001B[49m\u001B[43mallow_nan\u001B[49m\u001B[38;5;241;43m=\u001B[39;49m\u001B[43mallow_nan\u001B[49m\u001B[43m,\u001B[49m\u001B[43m \u001B[49m\u001B[43mindent\u001B[49m\u001B[38;5;241;43m=\u001B[39;49m\u001B[43mindent\u001B[49m\u001B[43m,\u001B[49m\n\u001B[1;32m    237\u001B[0m \u001B[43m    \u001B[49m\u001B[43mseparators\u001B[49m\u001B[38;5;241;43m=\u001B[39;49m\u001B[43mseparators\u001B[49m\u001B[43m,\u001B[49m\u001B[43m \u001B[49m\u001B[43mdefault\u001B[49m\u001B[38;5;241;43m=\u001B[39;49m\u001B[43mdefault\u001B[49m\u001B[43m,\u001B[49m\u001B[43m \u001B[49m\u001B[43msort_keys\u001B[49m\u001B[38;5;241;43m=\u001B[39;49m\u001B[43msort_keys\u001B[49m\u001B[43m,\u001B[49m\n\u001B[1;32m    238\u001B[0m \u001B[43m    \u001B[49m\u001B[38;5;241;43m*\u001B[39;49m\u001B[38;5;241;43m*\u001B[39;49m\u001B[43mkw\u001B[49m\u001B[43m)\u001B[49m\u001B[38;5;241;43m.\u001B[39;49m\u001B[43mencode\u001B[49m\u001B[43m(\u001B[49m\u001B[43mobj\u001B[49m\u001B[43m)\u001B[49m\n",
      "File \u001B[0;32m~/opt/anaconda3/envs/cellpaint/lib/python3.9/json/encoder.py:201\u001B[0m, in \u001B[0;36mJSONEncoder.encode\u001B[0;34m(self, o)\u001B[0m\n\u001B[1;32m    199\u001B[0m chunks \u001B[38;5;241m=\u001B[39m \u001B[38;5;28mself\u001B[39m\u001B[38;5;241m.\u001B[39miterencode(o, _one_shot\u001B[38;5;241m=\u001B[39m\u001B[38;5;28;01mTrue\u001B[39;00m)\n\u001B[1;32m    200\u001B[0m \u001B[38;5;28;01mif\u001B[39;00m \u001B[38;5;129;01mnot\u001B[39;00m \u001B[38;5;28misinstance\u001B[39m(chunks, (\u001B[38;5;28mlist\u001B[39m, \u001B[38;5;28mtuple\u001B[39m)):\n\u001B[0;32m--> 201\u001B[0m     chunks \u001B[38;5;241m=\u001B[39m \u001B[38;5;28;43mlist\u001B[39;49m\u001B[43m(\u001B[49m\u001B[43mchunks\u001B[49m\u001B[43m)\u001B[49m\n\u001B[1;32m    202\u001B[0m \u001B[38;5;28;01mreturn\u001B[39;00m \u001B[38;5;124m'\u001B[39m\u001B[38;5;124m'\u001B[39m\u001B[38;5;241m.\u001B[39mjoin(chunks)\n",
      "File \u001B[0;32m~/opt/anaconda3/envs/cellpaint/lib/python3.9/json/encoder.py:431\u001B[0m, in \u001B[0;36m_make_iterencode.<locals>._iterencode\u001B[0;34m(o, _current_indent_level)\u001B[0m\n\u001B[1;32m    429\u001B[0m     \u001B[38;5;28;01myield from\u001B[39;00m _iterencode_list(o, _current_indent_level)\n\u001B[1;32m    430\u001B[0m \u001B[38;5;28;01melif\u001B[39;00m \u001B[38;5;28misinstance\u001B[39m(o, \u001B[38;5;28mdict\u001B[39m):\n\u001B[0;32m--> 431\u001B[0m     \u001B[38;5;28;01myield from\u001B[39;00m _iterencode_dict(o, _current_indent_level)\n\u001B[1;32m    432\u001B[0m \u001B[38;5;28;01melse\u001B[39;00m:\n\u001B[1;32m    433\u001B[0m     \u001B[38;5;28;01mif\u001B[39;00m markers \u001B[38;5;129;01mis\u001B[39;00m \u001B[38;5;129;01mnot\u001B[39;00m \u001B[38;5;28;01mNone\u001B[39;00m:\n",
      "File \u001B[0;32m~/opt/anaconda3/envs/cellpaint/lib/python3.9/json/encoder.py:405\u001B[0m, in \u001B[0;36m_make_iterencode.<locals>._iterencode_dict\u001B[0;34m(dct, _current_indent_level)\u001B[0m\n\u001B[1;32m    403\u001B[0m         \u001B[38;5;28;01melse\u001B[39;00m:\n\u001B[1;32m    404\u001B[0m             chunks \u001B[38;5;241m=\u001B[39m _iterencode(value, _current_indent_level)\n\u001B[0;32m--> 405\u001B[0m         \u001B[38;5;28;01myield from\u001B[39;00m chunks\n\u001B[1;32m    406\u001B[0m \u001B[38;5;28;01mif\u001B[39;00m newline_indent \u001B[38;5;129;01mis\u001B[39;00m \u001B[38;5;129;01mnot\u001B[39;00m \u001B[38;5;28;01mNone\u001B[39;00m:\n\u001B[1;32m    407\u001B[0m     _current_indent_level \u001B[38;5;241m-\u001B[39m\u001B[38;5;241m=\u001B[39m \u001B[38;5;241m1\u001B[39m\n",
      "File \u001B[0;32m~/opt/anaconda3/envs/cellpaint/lib/python3.9/json/encoder.py:438\u001B[0m, in \u001B[0;36m_make_iterencode.<locals>._iterencode\u001B[0;34m(o, _current_indent_level)\u001B[0m\n\u001B[1;32m    436\u001B[0m         \u001B[38;5;28;01mraise\u001B[39;00m \u001B[38;5;167;01mValueError\u001B[39;00m(\u001B[38;5;124m\"\u001B[39m\u001B[38;5;124mCircular reference detected\u001B[39m\u001B[38;5;124m\"\u001B[39m)\n\u001B[1;32m    437\u001B[0m     markers[markerid] \u001B[38;5;241m=\u001B[39m o\n\u001B[0;32m--> 438\u001B[0m o \u001B[38;5;241m=\u001B[39m \u001B[43m_default\u001B[49m\u001B[43m(\u001B[49m\u001B[43mo\u001B[49m\u001B[43m)\u001B[49m\n\u001B[1;32m    439\u001B[0m \u001B[38;5;28;01myield from\u001B[39;00m _iterencode(o, _current_indent_level)\n\u001B[1;32m    440\u001B[0m \u001B[38;5;28;01mif\u001B[39;00m markers \u001B[38;5;129;01mis\u001B[39;00m \u001B[38;5;129;01mnot\u001B[39;00m \u001B[38;5;28;01mNone\u001B[39;00m:\n",
      "File \u001B[0;32m~/opt/anaconda3/envs/cellpaint/lib/python3.9/json/encoder.py:179\u001B[0m, in \u001B[0;36mJSONEncoder.default\u001B[0;34m(self, o)\u001B[0m\n\u001B[1;32m    160\u001B[0m \u001B[38;5;28;01mdef\u001B[39;00m \u001B[38;5;21mdefault\u001B[39m(\u001B[38;5;28mself\u001B[39m, o):\n\u001B[1;32m    161\u001B[0m     \u001B[38;5;124;03m\"\"\"Implement this method in a subclass such that it returns\u001B[39;00m\n\u001B[1;32m    162\u001B[0m \u001B[38;5;124;03m    a serializable object for ``o``, or calls the base implementation\u001B[39;00m\n\u001B[1;32m    163\u001B[0m \u001B[38;5;124;03m    (to raise a ``TypeError``).\u001B[39;00m\n\u001B[0;32m   (...)\u001B[0m\n\u001B[1;32m    177\u001B[0m \n\u001B[1;32m    178\u001B[0m \u001B[38;5;124;03m    \"\"\"\u001B[39;00m\n\u001B[0;32m--> 179\u001B[0m     \u001B[38;5;28;01mraise\u001B[39;00m \u001B[38;5;167;01mTypeError\u001B[39;00m(\u001B[38;5;124mf\u001B[39m\u001B[38;5;124m'\u001B[39m\u001B[38;5;124mObject of type \u001B[39m\u001B[38;5;132;01m{\u001B[39;00mo\u001B[38;5;241m.\u001B[39m\u001B[38;5;18m__class__\u001B[39m\u001B[38;5;241m.\u001B[39m\u001B[38;5;18m__name__\u001B[39m\u001B[38;5;132;01m}\u001B[39;00m\u001B[38;5;124m \u001B[39m\u001B[38;5;124m'\u001B[39m\n\u001B[1;32m    180\u001B[0m                     \u001B[38;5;124mf\u001B[39m\u001B[38;5;124m'\u001B[39m\u001B[38;5;124mis not JSON serializable\u001B[39m\u001B[38;5;124m'\u001B[39m)\n",
      "\u001B[0;31mTypeError\u001B[0m: Object of type Compose is not JSON serializable"
     ]
    }
   ],
   "source": [],
   "metadata": {
    "collapsed": false,
    "pycharm": {
     "name": "#%%\n"
    }
   }
  },
  {
   "cell_type": "code",
   "execution_count": 16,
   "outputs": [],
   "source": [
    "model = CellPainingModel(config,transforms)"
   ],
   "metadata": {
    "collapsed": false,
    "pycharm": {
     "name": "#%%\n"
    }
   }
  },
  {
   "cell_type": "code",
   "execution_count": 17,
   "outputs": [
    {
     "data": {
      "text/plain": "array([[4.5147352e-02, 3.6047108e-02, 6.6713601e-01, 5.8229011e-06,\n        2.1507222e-02, 6.2058074e-03, 1.6777913e-01, 5.1966440e-02,\n        4.2051310e-03],\n       [2.7855344e-03, 1.1297154e-05, 9.9607098e-01, 5.3346830e-06,\n        3.5054658e-05, 1.0283979e-03, 2.2110253e-05, 3.3837998e-05,\n        7.4594254e-06]], dtype=float32)"
     },
     "execution_count": 17,
     "metadata": {},
     "output_type": "execute_result"
    }
   ],
   "source": [
    "model(test_images)"
   ],
   "metadata": {
    "collapsed": false,
    "pycharm": {
     "name": "#%%\n"
    }
   }
  }
 ],
 "metadata": {
  "kernelspec": {
   "display_name": "Python 3",
   "language": "python",
   "name": "python3"
  },
  "language_info": {
   "codemirror_mode": {
    "name": "ipython",
    "version": 2
   },
   "file_extension": ".py",
   "mimetype": "text/x-python",
   "name": "python",
   "nbconvert_exporter": "python",
   "pygments_lexer": "ipython2",
   "version": "2.7.6"
  }
 },
 "nbformat": 4,
 "nbformat_minor": 0
}