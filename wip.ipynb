{
 "cells": [
  {
   "cell_type": "code",
   "execution_count": 1,
   "outputs": [],
   "source": [
    "import multiprocessing as mp\n",
    "import pandas as pd\n",
    "from tifffile import imread,imwrite\n",
    "import torch\n",
    "from hydra import initialize, compose\n",
    "from hydra.utils import instantiate\n",
    "from torch.utils.data import Dataset\n",
    "from src.data import DataHandler\n",
    "# from transformers import Trainer, TrainingArguments\n",
    "import src.utils as utils\n",
    "from src.model import ResNet, ConvNext, Dummy, ModelTrainer, ViT, DeiT\n",
    "from src.data.dataset import CellPaintingDatasetCached"
   ],
   "metadata": {
    "collapsed": false,
    "pycharm": {
     "name": "#%%\n"
    }
   }
  },
  {
   "cell_type": "code",
   "execution_count": 2,
   "outputs": [],
   "source": [
    "import sys"
   ],
   "metadata": {
    "collapsed": false,
    "pycharm": {
     "name": "#%%\n"
    }
   }
  },
  {
   "cell_type": "code",
   "execution_count": 3,
   "outputs": [],
   "source": [
    "# !{sys.executable} -m pip install transformers datasets tifffile hydra-core wandb torch torchvision jupyter tqdm --force-reinstall"
   ],
   "metadata": {
    "collapsed": false,
    "pycharm": {
     "name": "#%%\n"
    }
   }
  },
  {
   "cell_type": "code",
   "execution_count": 4,
   "outputs": [],
   "source": [
    "import os\n",
    "os.chdir('/Users/maciej.filanowicz/CellPainting/src')\n",
    "initialize(version_base=\"1.2\", config_path=\"src/conf\", job_name=\"test_app\")\n",
    "cfg = compose(config_name=\"config\", return_hydra_config=True)\n",
    "dataset_config = instantiate(cfg.dataset)\n",
    "train_config = instantiate(cfg.train)"
   ],
   "metadata": {
    "collapsed": false,
    "pycharm": {
     "name": "#%%\n"
    }
   }
  },
  {
   "cell_type": "code",
   "execution_count": 5,
   "outputs": [],
   "source": [
    "data_handler = DataHandler(dataset_config)\n",
    "# data_loaders = data_handler.get_data_loaders()"
   ],
   "metadata": {
    "collapsed": false,
    "pycharm": {
     "name": "#%%\n"
    }
   }
  },
  {
   "cell_type": "code",
   "execution_count": 6,
   "outputs": [],
   "source": [
    "from transformers import DeiTForImageClassification"
   ],
   "metadata": {
    "collapsed": false,
    "pycharm": {
     "name": "#%%\n"
    }
   }
  },
  {
   "cell_type": "code",
   "execution_count": 7,
   "outputs": [
    {
     "name": "stderr",
     "output_type": "stream",
     "text": [
      "Some weights of the model checkpoint at facebook/deit-base-distilled-patch16-224 were not used when initializing DeiTForImageClassification: ['cls_classifier.bias', 'cls_classifier.weight', 'distillation_classifier.weight', 'distillation_classifier.bias']\n",
      "- This IS expected if you are initializing DeiTForImageClassification from the checkpoint of a model trained on another task or with another architecture (e.g. initializing a BertForSequenceClassification model from a BertForPreTraining model).\n",
      "- This IS NOT expected if you are initializing DeiTForImageClassification from the checkpoint of a model that you expect to be exactly identical (initializing a BertForSequenceClassification model from a BertForSequenceClassification model).\n",
      "Some weights of DeiTForImageClassification were not initialized from the model checkpoint at facebook/deit-base-distilled-patch16-224 and are newly initialized: ['classifier.bias', 'classifier.weight']\n",
      "You should probably TRAIN this model on a down-stream task to be able to use it for predictions and inference.\n"
     ]
    }
   ],
   "source": [
    "model = DeiT()"
   ],
   "metadata": {
    "collapsed": false,
    "pycharm": {
     "name": "#%%\n"
    }
   }
  },
  {
   "cell_type": "code",
   "execution_count": 8,
   "outputs": [
    {
     "name": "stdout",
     "output_type": "stream",
     "text": [
      "                                    folder_name  \\\n",
      "0    HepG2_Exp3_Plate1_FX9__2021-04-08T16_16_48   \n",
      "1    HepG2_Exp3_Plate1_FX9__2021-04-08T16_16_48   \n",
      "2    HepG2_Exp3_Plate1_FX9__2021-04-08T16_16_48   \n",
      "3    HepG2_Exp3_Plate1_FX9__2021-04-08T16_16_48   \n",
      "4    HepG2_Exp3_Plate1_FX9__2021-04-08T16_16_48   \n",
      "..                                          ...   \n",
      "859  HepG2_Exp3_Plate1_FX9__2021-04-08T16_16_48   \n",
      "860  HepG2_Exp3_Plate1_FX9__2021-04-08T16_16_48   \n",
      "861  HepG2_Exp3_Plate1_FX9__2021-04-08T16_16_48   \n",
      "862  HepG2_Exp3_Plate1_FX9__2021-04-08T16_16_48   \n",
      "863  HepG2_Exp3_Plate1_FX9__2021-04-08T16_16_48   \n",
      "\n",
      "                         file_name1                      file_name2  \\\n",
      "0    r01c01f01p01-ch1sk1fk1fl1.tiff  r01c01f01p01-ch2sk1fk1fl1.tiff   \n",
      "1    r01c01f02p01-ch1sk1fk1fl1.tiff  r01c01f02p01-ch2sk1fk1fl1.tiff   \n",
      "2    r01c01f03p01-ch1sk1fk1fl1.tiff  r01c01f03p01-ch2sk1fk1fl1.tiff   \n",
      "3    r01c01f04p01-ch1sk1fk1fl1.tiff  r01c01f04p01-ch2sk1fk1fl1.tiff   \n",
      "4    r01c01f05p01-ch1sk1fk1fl1.tiff  r01c01f05p01-ch2sk1fk1fl1.tiff   \n",
      "..                              ...                             ...   \n",
      "859  r16c24f05p01-ch1sk1fk1fl1.tiff  r16c24f05p01-ch2sk1fk1fl1.tiff   \n",
      "860  r16c24f06p01-ch1sk1fk1fl1.tiff  r16c24f06p01-ch2sk1fk1fl1.tiff   \n",
      "861  r16c24f07p01-ch1sk1fk1fl1.tiff  r16c24f07p01-ch2sk1fk1fl1.tiff   \n",
      "862  r16c24f08p01-ch1sk1fk1fl1.tiff  r16c24f08p01-ch2sk1fk1fl1.tiff   \n",
      "863  r16c24f09p01-ch1sk1fk1fl1.tiff  r16c24f09p01-ch2sk1fk1fl1.tiff   \n",
      "\n",
      "                         file_name3                      file_name4  well_id  \\\n",
      "0    r01c01f01p01-ch3sk1fk1fl1.tiff  r01c01f01p01-ch4sk1fk1fl1.tiff        0   \n",
      "1    r01c01f02p01-ch3sk1fk1fl1.tiff  r01c01f02p01-ch4sk1fk1fl1.tiff        0   \n",
      "2    r01c01f03p01-ch3sk1fk1fl1.tiff  r01c01f03p01-ch4sk1fk1fl1.tiff        0   \n",
      "3    r01c01f04p01-ch3sk1fk1fl1.tiff  r01c01f04p01-ch4sk1fk1fl1.tiff        0   \n",
      "4    r01c01f05p01-ch3sk1fk1fl1.tiff  r01c01f05p01-ch4sk1fk1fl1.tiff        0   \n",
      "..                              ...                             ...      ...   \n",
      "859  r16c24f05p01-ch3sk1fk1fl1.tiff  r16c24f05p01-ch4sk1fk1fl1.tiff       95   \n",
      "860  r16c24f06p01-ch3sk1fk1fl1.tiff  r16c24f06p01-ch4sk1fk1fl1.tiff       95   \n",
      "861  r16c24f07p01-ch3sk1fk1fl1.tiff  r16c24f07p01-ch4sk1fk1fl1.tiff       95   \n",
      "862  r16c24f08p01-ch3sk1fk1fl1.tiff  r16c24f08p01-ch4sk1fk1fl1.tiff       95   \n",
      "863  r16c24f09p01-ch3sk1fk1fl1.tiff  r16c24f09p01-ch4sk1fk1fl1.tiff       95   \n",
      "\n",
      "    compound_id concentration_id       compound_name concentration  \\\n",
      "0             1                1  Berberine Chloride            50   \n",
      "1             1                1  Berberine Chloride            50   \n",
      "2             1                1  Berberine Chloride            50   \n",
      "3             1                1  Berberine Chloride            50   \n",
      "4             1                1  Berberine Chloride            50   \n",
      "..          ...              ...                 ...           ...   \n",
      "859          16               24                DFSO             0   \n",
      "860          16               24                DFSO             0   \n",
      "861          16               24                DFSO             0   \n",
      "862          16               24                DFSO             0   \n",
      "863          16               24                DFSO             0   \n",
      "\n",
      "                       file_name  \\\n",
      "0    r01c01f01p01-sk1fk1fl1.tiff   \n",
      "1    r01c01f02p01-sk1fk1fl1.tiff   \n",
      "2    r01c01f03p01-sk1fk1fl1.tiff   \n",
      "3    r01c01f04p01-sk1fk1fl1.tiff   \n",
      "4    r01c01f05p01-sk1fk1fl1.tiff   \n",
      "..                           ...   \n",
      "859  r16c24f05p01-sk1fk1fl1.tiff   \n",
      "860  r16c24f06p01-sk1fk1fl1.tiff   \n",
      "861  r16c24f07p01-sk1fk1fl1.tiff   \n",
      "862  r16c24f08p01-sk1fk1fl1.tiff   \n",
      "863  r16c24f09p01-sk1fk1fl1.tiff   \n",
      "\n",
      "                                          dataset_path  \\\n",
      "0    /Users/maciej.filanowicz/CellPainting/src/../d...   \n",
      "1    /Users/maciej.filanowicz/CellPainting/src/../d...   \n",
      "2    /Users/maciej.filanowicz/CellPainting/src/../d...   \n",
      "3    /Users/maciej.filanowicz/CellPainting/src/../d...   \n",
      "4    /Users/maciej.filanowicz/CellPainting/src/../d...   \n",
      "..                                                 ...   \n",
      "859  /Users/maciej.filanowicz/CellPainting/src/../d...   \n",
      "860  /Users/maciej.filanowicz/CellPainting/src/../d...   \n",
      "861  /Users/maciej.filanowicz/CellPainting/src/../d...   \n",
      "862  /Users/maciej.filanowicz/CellPainting/src/../d...   \n",
      "863  /Users/maciej.filanowicz/CellPainting/src/../d...   \n",
      "\n",
      "                                   cached_dataset_path subset  \n",
      "0    /Users/maciej.filanowicz/CellPainting/src/../d...   test  \n",
      "1    /Users/maciej.filanowicz/CellPainting/src/../d...   test  \n",
      "2    /Users/maciej.filanowicz/CellPainting/src/../d...   test  \n",
      "3    /Users/maciej.filanowicz/CellPainting/src/../d...   test  \n",
      "4    /Users/maciej.filanowicz/CellPainting/src/../d...   test  \n",
      "..                                                 ...    ...  \n",
      "859  /Users/maciej.filanowicz/CellPainting/src/../d...  train  \n",
      "860  /Users/maciej.filanowicz/CellPainting/src/../d...  train  \n",
      "861  /Users/maciej.filanowicz/CellPainting/src/../d...  train  \n",
      "862  /Users/maciej.filanowicz/CellPainting/src/../d...  train  \n",
      "863  /Users/maciej.filanowicz/CellPainting/src/../d...  train  \n",
      "\n",
      "[864 rows x 14 columns]\n"
     ]
    }
   ],
   "source": [
    "data_handler.cache_dataset()"
   ],
   "metadata": {
    "collapsed": false,
    "pycharm": {
     "name": "#%%\n"
    }
   }
  },
  {
   "cell_type": "code",
   "execution_count": 9,
   "outputs": [],
   "source": [
    "import pandas as pd\n",
    "metadata = pd.read_csv(\"../data/processed/meta_data.csv\")\n",
    "train_dataset = CellPaintingDatasetCached(\n",
    "    metadata[metadata.folder_name == \"train\"], dataset_config, dataset_config.train_transforms\n",
    ")\n",
    "test_dataset = CellPaintingDatasetCached(\n",
    "    metadata[metadata.folder_name == \"test\"], dataset_config, dataset_config.test_transforms\n",
    ")\n",
    "val_dataset = CellPaintingDatasetCached(\n",
    "    metadata[metadata.folder_name == \"val\"], dataset_config, dataset_config.test_transforms\n",
    ")"
   ],
   "metadata": {
    "collapsed": false,
    "pycharm": {
     "name": "#%%\n"
    }
   }
  },
  {
   "cell_type": "code",
   "execution_count": 10,
   "outputs": [
    {
     "data": {
      "text/plain": "DFSO                  279\nBerberine Chloride     63\nFluphenazine           63\nLatrunculin B          63\nRotenone               63\nTetrandrine            63\nBrefeldin A            54\nNocodazole             54\nRapamycin              54\nName: compound_name, dtype: int64"
     },
     "execution_count": 10,
     "metadata": {},
     "output_type": "execute_result"
    }
   ],
   "source": [
    "metadata[metadata.folder_name=='train']['compound_name'].value_counts()"
   ],
   "metadata": {
    "collapsed": false,
    "pycharm": {
     "name": "#%%\n"
    }
   }
  },
  {
   "cell_type": "code",
   "execution_count": 12,
   "outputs": [
    {
     "data": {
      "text/plain": "Berberine Chloride    9\nLatrunculin B         9\nName: compound_name, dtype: int64"
     },
     "execution_count": 12,
     "metadata": {},
     "output_type": "execute_result"
    }
   ],
   "source": [
    "metadata[metadata.folder_name=='test']['compound_name'].value_counts()"
   ],
   "metadata": {
    "collapsed": false,
    "pycharm": {
     "name": "#%%\n"
    }
   }
  },
  {
   "cell_type": "code",
   "execution_count": 17,
   "outputs": [
    {
     "ename": "ImportError",
     "evalue": "dlopen(/Users/maciej.filanowicz/opt/anaconda3/envs/cellpaint/lib/python3.9/site-packages/pyarrow/lib.cpython-39-darwin.so, 2): Library not loaded: @rpath/libre2.0.dylib\n  Referenced from: /Users/maciej.filanowicz/opt/anaconda3/envs/cellpaint/lib/libarrow.400.1.0.dylib\n  Reason: image not found",
     "output_type": "error",
     "traceback": [
      "\u001B[0;31m---------------------------------------------------------------------------\u001B[0m",
      "\u001B[0;31mImportError\u001B[0m                               Traceback (most recent call last)",
      "Input \u001B[0;32mIn [17]\u001B[0m, in \u001B[0;36m<cell line: 3>\u001B[0;34m()\u001B[0m\n\u001B[1;32m      1\u001B[0m \u001B[38;5;28;01mfrom\u001B[39;00m \u001B[38;5;21;01mtransformers\u001B[39;00m \u001B[38;5;28;01mimport\u001B[39;00m default_data_collator\n\u001B[1;32m      2\u001B[0m \u001B[38;5;28;01mimport\u001B[39;00m \u001B[38;5;21;01mnumpy\u001B[39;00m \u001B[38;5;28;01mas\u001B[39;00m \u001B[38;5;21;01mnp\u001B[39;00m\n\u001B[0;32m----> 3\u001B[0m \u001B[38;5;28;01mfrom\u001B[39;00m \u001B[38;5;21;01mdatasets\u001B[39;00m \u001B[38;5;28;01mimport\u001B[39;00m load_metric\n\u001B[1;32m      5\u001B[0m metric \u001B[38;5;241m=\u001B[39m load_metric(\u001B[38;5;124m\"\u001B[39m\u001B[38;5;124maccuracy\u001B[39m\u001B[38;5;124m\"\u001B[39m)\n\u001B[1;32m      6\u001B[0m data_collator \u001B[38;5;241m=\u001B[39m default_data_collator\n",
      "File \u001B[0;32m~/opt/anaconda3/envs/cellpaint/lib/python3.9/site-packages/datasets/__init__.py:22\u001B[0m, in \u001B[0;36m<module>\u001B[0;34m\u001B[0m\n\u001B[1;32m      1\u001B[0m \u001B[38;5;66;03m# flake8: noqa\u001B[39;00m\n\u001B[1;32m      2\u001B[0m \u001B[38;5;66;03m# Copyright 2020 The HuggingFace Datasets Authors and the TensorFlow Datasets Authors.\u001B[39;00m\n\u001B[1;32m      3\u001B[0m \u001B[38;5;66;03m#\u001B[39;00m\n\u001B[0;32m   (...)\u001B[0m\n\u001B[1;32m     17\u001B[0m \u001B[38;5;66;03m# pylint: enable=line-too-long\u001B[39;00m\n\u001B[1;32m     18\u001B[0m \u001B[38;5;66;03m# pylint: disable=g-import-not-at-top,g-bad-import-order,wrong-import-position\u001B[39;00m\n\u001B[1;32m     20\u001B[0m __version__ \u001B[38;5;241m=\u001B[39m \u001B[38;5;124m\"\u001B[39m\u001B[38;5;124m1.18.3\u001B[39m\u001B[38;5;124m\"\u001B[39m\n\u001B[0;32m---> 22\u001B[0m \u001B[38;5;28;01mimport\u001B[39;00m \u001B[38;5;21;01mpyarrow\u001B[39;00m\n\u001B[1;32m     23\u001B[0m \u001B[38;5;28;01mfrom\u001B[39;00m \u001B[38;5;21;01mpackaging\u001B[39;00m \u001B[38;5;28;01mimport\u001B[39;00m version \u001B[38;5;28;01mas\u001B[39;00m _version\n\u001B[1;32m     24\u001B[0m \u001B[38;5;28;01mfrom\u001B[39;00m \u001B[38;5;21;01mpyarrow\u001B[39;00m \u001B[38;5;28;01mimport\u001B[39;00m total_allocated_bytes\n",
      "File \u001B[0;32m~/opt/anaconda3/envs/cellpaint/lib/python3.9/site-packages/pyarrow/__init__.py:63\u001B[0m, in \u001B[0;36m<module>\u001B[0;34m\u001B[0m\n\u001B[1;32m     61\u001B[0m _gc_enabled \u001B[38;5;241m=\u001B[39m _gc\u001B[38;5;241m.\u001B[39misenabled()\n\u001B[1;32m     62\u001B[0m _gc\u001B[38;5;241m.\u001B[39mdisable()\n\u001B[0;32m---> 63\u001B[0m \u001B[38;5;28;01mimport\u001B[39;00m \u001B[38;5;21;01mpyarrow\u001B[39;00m\u001B[38;5;21;01m.\u001B[39;00m\u001B[38;5;21;01mlib\u001B[39;00m \u001B[38;5;28;01mas\u001B[39;00m \u001B[38;5;21;01m_lib\u001B[39;00m\n\u001B[1;32m     64\u001B[0m \u001B[38;5;28;01mif\u001B[39;00m _gc_enabled:\n\u001B[1;32m     65\u001B[0m     _gc\u001B[38;5;241m.\u001B[39menable()\n",
      "\u001B[0;31mImportError\u001B[0m: dlopen(/Users/maciej.filanowicz/opt/anaconda3/envs/cellpaint/lib/python3.9/site-packages/pyarrow/lib.cpython-39-darwin.so, 2): Library not loaded: @rpath/libre2.0.dylib\n  Referenced from: /Users/maciej.filanowicz/opt/anaconda3/envs/cellpaint/lib/libarrow.400.1.0.dylib\n  Reason: image not found"
     ]
    }
   ],
   "source": [
    "from transformers import default_data_collator\n",
    "import numpy as np\n",
    "from datasets import load_metric\n",
    "\n",
    "metric = load_metric(\"accuracy\")\n",
    "data_collator = default_data_collator\n",
    "def compute_metrics(eval_pred):\n",
    "\n",
    "    predictions, labels = eval_pred\n",
    "    predictions = np.argmax(predictions, axis=1)\n",
    "    return metric.compute(predictions=predictions, references=labels)"
   ],
   "metadata": {
    "collapsed": false,
    "pycharm": {
     "name": "#%%\n"
    }
   }
  },
  {
   "cell_type": "code",
   "execution_count": null,
   "outputs": [],
   "source": [
    "args = TrainingArguments(\n",
    "    \"test\",\n",
    "    do_train=True,\n",
    "    do_eval=True,\n",
    "    logging_steps=20,\n",
    "    save_steps=20,\n",
    "    evaluation_strategy = \"steps\",\n",
    "    learning_rate=2e-5,\n",
    "    per_device_train_batch_size=32,\n",
    "    per_device_eval_batch_size=16,\n",
    "    num_train_epochs=30,\n",
    "    dataloader_num_workers=24,\n",
    "    weight_decay=0.01,\n",
    "    load_best_model_at_end=True,\n",
    "    prediction_loss_only=True,\n",
    "    report_to='wandb',\n",
    "    logging_dir='logs',\n",
    ")"
   ],
   "metadata": {
    "collapsed": false,
    "pycharm": {
     "name": "#%%\n"
    }
   }
  },
  {
   "cell_type": "code",
   "execution_count": null,
   "outputs": [],
   "source": [
    "model = ViT().to('cuda')\n",
    "\n",
    "trainer = Trainer(\n",
    "    model,\n",
    "    args,\n",
    "    train_dataset = train_dataset,\n",
    "    eval_dataset = val_dataset,\n",
    "    data_collator = data_collator,\n",
    "    compute_metrics = compute_metrics,\n",
    ")"
   ],
   "metadata": {
    "collapsed": false,
    "pycharm": {
     "name": "#%%\n"
    }
   }
  }
 ],
 "metadata": {
  "kernelspec": {
   "display_name": "Python 3",
   "language": "python",
   "name": "python3"
  },
  "language_info": {
   "codemirror_mode": {
    "name": "ipython",
    "version": 2
   },
   "file_extension": ".py",
   "mimetype": "text/x-python",
   "name": "python",
   "nbconvert_exporter": "python",
   "pygments_lexer": "ipython2",
   "version": "2.7.6"
  }
 },
 "nbformat": 4,
 "nbformat_minor": 0
}