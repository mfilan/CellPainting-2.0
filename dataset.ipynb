{
 "cells": [
  {
   "cell_type": "code",
   "execution_count": 1,
   "metadata": {
    "collapsed": false,
    "pycharm": {
     "name": "#%%\n"
    }
   },
   "outputs": [],
   "source": [
    "import torch\n",
    "from hydra import initialize, compose\n",
    "from hydra.utils import instantiate\n",
    "from src.data import DataHandler\n",
    "from src.model import ResNet, ConvNext, Dummy, ModelTrainer\n",
    "from src.data.dataset import CellPaintingDatasetCached"
   ]
  },
  {
   "cell_type": "code",
   "execution_count": 3,
   "metadata": {
    "collapsed": false,
    "pycharm": {
     "name": "#%%\n"
    }
   },
   "outputs": [],
   "source": [
    "import os\n",
    "os.chdir('/home/azureuser/cloudfiles/code/Users/maciej.filanowicz/CellPainting-2.0/src')\n",
    "initialize(version_base=\"1.2\", config_path=\"src/conf\", job_name=\"test_app\")\n",
    "cfg = compose(config_name=\"config\", return_hydra_config=True)\n",
    "dataset_config = instantiate(cfg.dataset)\n",
    "train_config = instantiate(cfg.train)"
   ]
  },
  {
   "cell_type": "code",
   "execution_count": 4,
   "metadata": {
    "collapsed": false,
    "pycharm": {
     "name": "#%%\n"
    }
   },
   "outputs": [],
   "source": []
  },
  {
   "cell_type": "code",
   "execution_count": 5,
   "metadata": {
    "collapsed": false,
    "pycharm": {
     "name": "#%%\n"
    }
   },
   "outputs": [],
   "source": []
  },
  {
   "cell_type": "code",
   "execution_count": 6,
   "metadata": {
    "collapsed": false,
    "pycharm": {
     "name": "#%%\n"
    }
   },
   "outputs": [],
   "source": []
  },
  {
   "cell_type": "code",
   "execution_count": 7,
   "metadata": {
    "collapsed": false,
    "pycharm": {
     "name": "#%%\n"
    }
   },
   "outputs": [],
   "source": [
    "# data_loaders = DataHandler(dataset_config).get_data_loaders()\n",
    "import pandas as pd\n",
    "metadata = pd.read_csv('splitted_metadata.csv')\n",
    "dataset_config.dataset_path = dataset_config.dataset_path.replace('raw','processed')\n",
    "train_dataset = CellPaintingDatasetCached(metadata[metadata.subset=='TRAIN'], dataset_config, dataset_config.transforms)\n",
    "test_dataset = CellPaintingDatasetCached(metadata[metadata.subset=='TEST'], dataset_config, dataset_config.transforms)\n",
    "val_dataset = CellPaintingDatasetCached(metadata[metadata.subset=='VAL'], dataset_config, dataset_config.transforms)\n",
    "train_data_loader = torch.utils.data.DataLoader(train_dataset,dataset_config.batch_size,num_workers=8,pin_memory=True)\n",
    "test_data_loader = torch.utils.data.DataLoader(test_dataset,dataset_config.batch_size,num_workers=8,pin_memory=True)\n",
    "val_data_loader = torch.utils.data.DataLoader(val_dataset,dataset_config.batch_size,num_workers=8,pin_memory=True)\n",
    "data_loaders = {'train_data_loader':train_data_loader,'test_data_loader':test_data_loader,'val_data_loader':val_data_loader}"
   ]
  },
  {
   "cell_type": "code",
   "execution_count": 8,
   "metadata": {
    "collapsed": false,
    "pycharm": {
     "name": "#%%\n"
    }
   },
   "outputs": [],
   "source": [
    "model = torch.hub.load(\"pytorch/vision\", \"convnext_tiny\")"
   ]
  },
  {
   "cell_type": "code",
   "execution_count": 9,
   "metadata": {
    "collapsed": false,
    "pycharm": {
     "name": "#%%\n"
    }
   },
   "outputs": [
    {
     "name": "stdout",
     "output_type": "stream",
     "text": [
      "Let's use 4 GPUs!\n"
     ]
    }
   ],
   "source": [
    "device = torch.device(\"cuda:0\" if torch.cuda.is_available() else \"cpu\")\n",
    "if torch.cuda.device_count() > 1:\n",
    "  print(\"Let's use\", torch.cuda.device_count(), \"GPUs!\")"
   ]
  },
  {
   "cell_type": "code",
   "execution_count": 9,
   "metadata": {
    "collapsed": false,
    "pycharm": {
     "name": "#%%\n"
    }
   },
   "outputs": [],
   "source": [
    "model = Dummy()\n",
    "trainer = ModelTrainer(model,train_config,**data_loaders)"
   ]
  },
  {
   "cell_type": "code",
   "execution_count": 10,
   "metadata": {
    "collapsed": false,
    "pycharm": {
     "name": "#%%\n"
    }
   },
   "outputs": [
    {
     "data": {
      "application/vnd.jupyter.widget-view+json": {
       "model_id": "08f2c9851cf94abea03a2877d599bc15",
       "version_major": 2,
       "version_minor": 0
      },
      "text/plain": [
       "Progress:   0%|          | 0/1 [00:00<?, ?it/s]"
      ]
     },
     "metadata": {},
     "output_type": "display_data"
    },
    {
     "data": {
      "application/vnd.jupyter.widget-view+json": {
       "model_id": "4783cd950b464b569466470476ed541c",
       "version_major": 2,
       "version_minor": 0
      },
      "text/plain": [
       "Training:   0%|          | 0/162 [00:00<?, ?it/s]"
      ]
     },
     "metadata": {},
     "output_type": "display_data"
    }
   ],
   "source": [
    "trainer.run_trainer()"
   ]
  }
 ],
 "metadata": {
  "kernelspec": {
   "display_name": "Python 3.8.5 ('azureml_py38_PT_TF')",
   "language": "python",
   "name": "python3"
  },
  "language_info": {
   "codemirror_mode": {
    "name": "ipython",
    "version": 3
   },
   "file_extension": ".py",
   "mimetype": "text/x-python",
   "name": "python",
   "nbconvert_exporter": "python",
   "pygments_lexer": "ipython3",
   "version": "3.8.5"
  },
  "vscode": {
   "interpreter": {
    "hash": "9169f1d4e16acc976bbb73e323b0dbdf23f1c55e833fb2befffc4fb50ac2de2f"
   }
  }
 },
 "nbformat": 4,
 "nbformat_minor": 0
}